{
 "cells": [
  {
   "cell_type": "code",
   "execution_count": 1,
   "metadata": {},
   "outputs": [
    {
     "name": "stderr",
     "output_type": "stream",
     "text": [
      "/home/toomuch/anaconda3/envs/torch/lib/python3.10/site-packages/nvidia/dali/backend.py:46: Warning: DALI support for Python 3.10 is experimental and some functionalities may not work.\n",
      "  deprecation_warning(\"DALI support for Python 3.10 is experimental and some functionalities \"\n",
      "/home/toomuch/anaconda3/envs/torch/lib/python3.10/site-packages/pytorch_lightning/utilities/seed.py:48: LightningDeprecationWarning: `pytorch_lightning.utilities.seed.seed_everything` has been deprecated in v1.8.0 and will be removed in v1.10.0. Please use `lightning_lite.utilities.seed.seed_everything` instead.\n",
      "  rank_zero_deprecation(\n",
      "Global seed set to 44\n"
     ]
    }
   ],
   "source": [
    "%load_ext autoreload\n",
    "%autoreload 2\n",
    "\n",
    "from typing import List, Tuple\n",
    "import torch\n",
    "\n",
    "import pytorch_lightning as pl\n",
    "from src.models.model import RsnaTimmModel\n",
    "from src.data.datamodule import RsnaDataModule\n",
    "\n",
    "\n",
    "from pytorch_lightning.utilities.seed import seed_everything\n",
    "seed_everything(44, True)\n",
    "\n",
    "\n",
    "RUN_NAME = \"\"\n",
    "DESC = \"\"\n",
    "MODEL_NAME = \"tf_efficientnetv2_s\"\n",
    "\n",
    "\n",
    "conf = {\n",
    "    \"dataset_root\": \"/data/rsna/\",\n",
    "    \"augments_name\": \"SimpleAugments\",\n",
    "    \"augments_kwargs\": {\"img_size\": 1024},\n",
    "    \"val_ratio\": 0.2,\n",
    "    \"img_size\": 1024,\n",
    "    \"img_folder\": \"/data/rsna/train_images_png_1024\",\n",
    "    \"img_folder_inference\": \"/data/rsna/test_images_1024/\",\n",
    "    \"batch_size\": 8,\n",
    "    \"num_workers\": 16,\n",
    "    \"model_name\": MODEL_NAME,\n",
    "    'pretrained': False,\n",
    "    \"fc_dropout\": 0.65,\n",
    "    \"lr\": 5e-5,\n",
    "    \"category_aux_targets\": [\n",
    "        \"site_id\",\n",
    "        \"laterality\",\n",
    "        \"view\",\n",
    "        \"implant\",\n",
    "        \"biopsy\",\n",
    "        \"invasive\",\n",
    "        \"BIRADS\",\n",
    "        \"density\",\n",
    "        \"difficult_negative_case\",\n",
    "        \"machine_id\",\n",
    "        \"age\",\n",
    "    ],\n",
    "    \"aux_classes\": [2, 2, 6, 2, 2, 2, 4, 5, 2, 10, 10],\n",
    "    \"aux_loss_weight\": 1.0,  # ?\n",
    "}"
   ]
  },
  {
   "cell_type": "code",
   "execution_count": 2,
   "metadata": {},
   "outputs": [
    {
     "name": "stderr",
     "output_type": "stream",
     "text": [
      "/home/toomuch/anaconda3/envs/torch/lib/python3.10/site-packages/torch/nn/modules/lazy.py:180: UserWarning: Lazy modules are a new feature under heavy development so changes to the API or functionality can happen at any moment.\n",
      "  warnings.warn('Lazy modules are a new feature under heavy development '\n"
     ]
    },
    {
     "name": "stdout",
     "output_type": "stream",
     "text": [
      "<All keys matched successfully>\n"
     ]
    }
   ],
   "source": [
    "dm = RsnaDataModule(conf)\n",
    "dm.prepare_data()\n",
    "dm.setup()\n",
    "\n",
    "model = RsnaTimmModel(conf)#.load_from_checkpoint('/home/toomuch/rsna/runs/[READY 0.294] EffNet2_s_1024_AUX/tf_efficientnetv2_s_1024_debug-epoch=09-val_loss=2.238-val_cf1=0.062_cf1thr=0.3.ckpt')\n",
    "print(model.load_state_dict(torch.load('/home/toomuch/rsna/runs/[READY 0.294] EffNet2_s_1024_AUX/tf_efficientnetv2_s_1024_debug-epoch=09-val_loss=2.238-val_cf1=0.062_cf1thr=0.3.ckpt')['state_dict']))"
   ]
  },
  {
   "cell_type": "code",
   "execution_count": 3,
   "metadata": {},
   "outputs": [
    {
     "name": "stderr",
     "output_type": "stream",
     "text": [
      "Using 16bit native Automatic Mixed Precision (AMP)\n",
      "GPU available: True (cuda), used: True\n",
      "TPU available: False, using: 0 TPU cores\n",
      "IPU available: False, using: 0 IPUs\n",
      "HPU available: False, using: 0 HPUs\n",
      "LOCAL_RANK: 0 - CUDA_VISIBLE_DEVICES: [0,1]\n"
     ]
    },
    {
     "data": {
      "application/vnd.jupyter.widget-view+json": {
       "model_id": "2a9141d9ae3b4c38a5b1d623a431e815",
       "version_major": 2,
       "version_minor": 0
      },
      "text/plain": [
       "Predicting: 0it [00:00, ?it/s]"
      ]
     },
     "metadata": {},
     "output_type": "display_data"
    }
   ],
   "source": [
    "trainer = pl.Trainer(accelerator='gpu', devices=1, precision=16)\n",
    "predictions = trainer.predict(model, dm)"
   ]
  },
  {
   "cell_type": "code",
   "execution_count": 4,
   "metadata": {},
   "outputs": [],
   "source": [
    "# trainer.validate(model, dm)\n",
    "#===========================================================================#\n",
    "            # = VALID LOSS: 2.076\n",
    "            # = VALID cF1: 0.074\n",
    "            # = VALID cF1_thresh 0.486, thr value = 0.846\n",
    "#===========================================================================#"
   ]
  },
  {
   "cell_type": "code",
   "execution_count": 5,
   "metadata": {},
   "outputs": [],
   "source": [
    "result = []\n",
    "for batch in predictions:\n",
    "    cancer_probs, patient_ids, lateralitys = batch\n",
    "    cancer_probs = cancer_probs.detach().cpu().numpy()\n",
    "    for prob, patient_id, laterality in zip(cancer_probs, patient_ids, lateralitys):\n",
    "        prediction_id = '{}_{}'.format(patient_id, laterality)\n",
    "        result.append([prediction_id, float(prob)])"
   ]
  },
  {
   "cell_type": "code",
   "execution_count": 6,
   "metadata": {},
   "outputs": [
    {
     "data": {
      "text/html": [
       "<div>\n",
       "<style scoped>\n",
       "    .dataframe tbody tr th:only-of-type {\n",
       "        vertical-align: middle;\n",
       "    }\n",
       "\n",
       "    .dataframe tbody tr th {\n",
       "        vertical-align: top;\n",
       "    }\n",
       "\n",
       "    .dataframe thead th {\n",
       "        text-align: right;\n",
       "    }\n",
       "</style>\n",
       "<table border=\"1\" class=\"dataframe\">\n",
       "  <thead>\n",
       "    <tr style=\"text-align: right;\">\n",
       "      <th></th>\n",
       "      <th>prediction_id</th>\n",
       "      <th>cancer</th>\n",
       "    </tr>\n",
       "  </thead>\n",
       "  <tbody>\n",
       "    <tr>\n",
       "      <th>0</th>\n",
       "      <td>10008_L</td>\n",
       "      <td>0</td>\n",
       "    </tr>\n",
       "    <tr>\n",
       "      <th>1</th>\n",
       "      <td>10008_R</td>\n",
       "      <td>0</td>\n",
       "    </tr>\n",
       "  </tbody>\n",
       "</table>\n",
       "</div>"
      ],
      "text/plain": [
       "  prediction_id  cancer\n",
       "0       10008_L       0\n",
       "1       10008_R       0"
      ]
     },
     "execution_count": 6,
     "metadata": {},
     "output_type": "execute_result"
    }
   ],
   "source": [
    "import pandas as pd\n",
    "THRESHOLD = 0.846\n",
    "\n",
    "df = pd.DataFrame(result, columns = ['prediction_id', 'cancer'])\n",
    "sub = df[['prediction_id', 'cancer']].groupby(\"prediction_id\").mean().reset_index()\n",
    "sub[\"cancer\"] = (sub[\"cancer\"] > THRESHOLD).astype(int)\n",
    "sub"
   ]
  },
  {
   "cell_type": "code",
   "execution_count": null,
   "metadata": {},
   "outputs": [],
   "source": []
  }
 ],
 "metadata": {
  "kernelspec": {
   "display_name": "torch",
   "language": "python",
   "name": "python3"
  },
  "language_info": {
   "codemirror_mode": {
    "name": "ipython",
    "version": 3
   },
   "file_extension": ".py",
   "mimetype": "text/x-python",
   "name": "python",
   "nbconvert_exporter": "python",
   "pygments_lexer": "ipython3",
   "version": "3.10.8"
  },
  "orig_nbformat": 4,
  "vscode": {
   "interpreter": {
    "hash": "277bf2ba1c3a898228e5bac6075b1ca4b05a199a6dada3bf2ac68499123732fc"
   }
  }
 },
 "nbformat": 4,
 "nbformat_minor": 2
}
